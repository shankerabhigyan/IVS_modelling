{
 "cells": [
  {
   "cell_type": "markdown",
   "metadata": {},
   "source": [
    "# Extracting Features using PCA"
   ]
  },
  {
   "cell_type": "markdown",
   "metadata": {},
   "source": [
    "$X_{t}(m, \\tau) = \\ln \\bar{\\sigma}_{t}(m, \\tau), \\ \\text{where} \\ \\bar{\\sigma}_{t}(m, \\tau) \\in \\bar{\\Sigma}_{t}$\n",
    "\n",
    "$U_{t}(m, \\tau) = \\ln \\bar{\\sigma}_{t}(m, \\tau) - \\ln \\bar{\\sigma}_{t-1}(m, \\tau) \\, \\text{for} \\, (m, \\tau) \\in \\mathcal{I}_0.$\n",
    "\n",
    "\n",
    "**We perform PCA on** $\\{U_{t}(m, \\tau), (m, \\tau) \\in \\mathcal{I}_0\\}$"
   ]
  },
  {
   "cell_type": "code",
   "execution_count": 1,
   "metadata": {},
   "outputs": [],
   "source": [
    "import pandas as pd"
   ]
  },
  {
   "cell_type": "code",
   "execution_count": 2,
   "metadata": {},
   "outputs": [
    {
     "data": {
      "text/html": [
       "<div>\n",
       "<style scoped>\n",
       "    .dataframe tbody tr th:only-of-type {\n",
       "        vertical-align: middle;\n",
       "    }\n",
       "\n",
       "    .dataframe tbody tr th {\n",
       "        vertical-align: top;\n",
       "    }\n",
       "\n",
       "    .dataframe thead th {\n",
       "        text-align: right;\n",
       "    }\n",
       "</style>\n",
       "<table border=\"1\" class=\"dataframe\">\n",
       "  <thead>\n",
       "    <tr style=\"text-align: right;\">\n",
       "      <th></th>\n",
       "      <th>date</th>\n",
       "      <th>tau</th>\n",
       "      <th>m</th>\n",
       "      <th>IV</th>\n",
       "    </tr>\n",
       "  </thead>\n",
       "  <tbody>\n",
       "    <tr>\n",
       "      <th>0</th>\n",
       "      <td>2024-01-02</td>\n",
       "      <td>0.027397</td>\n",
       "      <td>-0.510826</td>\n",
       "      <td>0.337169</td>\n",
       "    </tr>\n",
       "    <tr>\n",
       "      <th>1</th>\n",
       "      <td>2024-01-02</td>\n",
       "      <td>0.027397</td>\n",
       "      <td>-0.223144</td>\n",
       "      <td>0.223939</td>\n",
       "    </tr>\n",
       "    <tr>\n",
       "      <th>2</th>\n",
       "      <td>2024-01-02</td>\n",
       "      <td>0.027397</td>\n",
       "      <td>-0.105361</td>\n",
       "      <td>0.210374</td>\n",
       "    </tr>\n",
       "    <tr>\n",
       "      <th>3</th>\n",
       "      <td>2024-01-02</td>\n",
       "      <td>0.027397</td>\n",
       "      <td>-0.051293</td>\n",
       "      <td>0.210528</td>\n",
       "    </tr>\n",
       "    <tr>\n",
       "      <th>4</th>\n",
       "      <td>2024-01-02</td>\n",
       "      <td>0.027397</td>\n",
       "      <td>-0.025318</td>\n",
       "      <td>0.212029</td>\n",
       "    </tr>\n",
       "  </tbody>\n",
       "</table>\n",
       "</div>"
      ],
      "text/plain": [
       "         date       tau         m        IV\n",
       "0  2024-01-02  0.027397 -0.510826  0.337169\n",
       "1  2024-01-02  0.027397 -0.223144  0.223939\n",
       "2  2024-01-02  0.027397 -0.105361  0.210374\n",
       "3  2024-01-02  0.027397 -0.051293  0.210528\n",
       "4  2024-01-02  0.027397 -0.025318  0.212029"
      ]
     },
     "execution_count": 2,
     "metadata": {},
     "output_type": "execute_result"
    }
   ],
   "source": [
    "df = pd.read_csv('predicted_iv_new.csv')\n",
    "df.head()"
   ]
  },
  {
   "cell_type": "code",
   "execution_count": 3,
   "metadata": {},
   "outputs": [],
   "source": [
    "from sklearn.decomposition import PCA\n",
    "from sklearn.preprocessing import StandardScaler\n",
    "import numpy as np"
   ]
  },
  {
   "cell_type": "code",
   "execution_count": 4,
   "metadata": {},
   "outputs": [
    {
     "data": {
      "text/html": [
       "<div>\n",
       "<style scoped>\n",
       "    .dataframe tbody tr th:only-of-type {\n",
       "        vertical-align: middle;\n",
       "    }\n",
       "\n",
       "    .dataframe tbody tr th {\n",
       "        vertical-align: top;\n",
       "    }\n",
       "\n",
       "    .dataframe thead th {\n",
       "        text-align: right;\n",
       "    }\n",
       "</style>\n",
       "<table border=\"1\" class=\"dataframe\">\n",
       "  <thead>\n",
       "    <tr style=\"text-align: right;\">\n",
       "      <th></th>\n",
       "      <th>date</th>\n",
       "      <th>tau</th>\n",
       "      <th>m</th>\n",
       "      <th>IV</th>\n",
       "      <th>Xt</th>\n",
       "      <th>U_mt</th>\n",
       "    </tr>\n",
       "  </thead>\n",
       "  <tbody>\n",
       "    <tr>\n",
       "      <th>0</th>\n",
       "      <td>2024-01-02</td>\n",
       "      <td>0.027397</td>\n",
       "      <td>-0.510826</td>\n",
       "      <td>0.337169</td>\n",
       "      <td>-1.087172</td>\n",
       "      <td>0.0</td>\n",
       "    </tr>\n",
       "    <tr>\n",
       "      <th>1</th>\n",
       "      <td>2024-01-02</td>\n",
       "      <td>0.027397</td>\n",
       "      <td>-0.223144</td>\n",
       "      <td>0.223939</td>\n",
       "      <td>-1.496383</td>\n",
       "      <td>0.0</td>\n",
       "    </tr>\n",
       "    <tr>\n",
       "      <th>2</th>\n",
       "      <td>2024-01-02</td>\n",
       "      <td>0.027397</td>\n",
       "      <td>-0.105361</td>\n",
       "      <td>0.210374</td>\n",
       "      <td>-1.558868</td>\n",
       "      <td>0.0</td>\n",
       "    </tr>\n",
       "    <tr>\n",
       "      <th>3</th>\n",
       "      <td>2024-01-02</td>\n",
       "      <td>0.027397</td>\n",
       "      <td>-0.051293</td>\n",
       "      <td>0.210528</td>\n",
       "      <td>-1.558138</td>\n",
       "      <td>0.0</td>\n",
       "    </tr>\n",
       "    <tr>\n",
       "      <th>4</th>\n",
       "      <td>2024-01-02</td>\n",
       "      <td>0.027397</td>\n",
       "      <td>-0.025318</td>\n",
       "      <td>0.212029</td>\n",
       "      <td>-1.551032</td>\n",
       "      <td>0.0</td>\n",
       "    </tr>\n",
       "  </tbody>\n",
       "</table>\n",
       "</div>"
      ],
      "text/plain": [
       "         date       tau         m        IV        Xt  U_mt\n",
       "0  2024-01-02  0.027397 -0.510826  0.337169 -1.087172   0.0\n",
       "1  2024-01-02  0.027397 -0.223144  0.223939 -1.496383   0.0\n",
       "2  2024-01-02  0.027397 -0.105361  0.210374 -1.558868   0.0\n",
       "3  2024-01-02  0.027397 -0.051293  0.210528 -1.558138   0.0\n",
       "4  2024-01-02  0.027397 -0.025318  0.212029 -1.551032   0.0"
      ]
     },
     "execution_count": 4,
     "metadata": {},
     "output_type": "execute_result"
    }
   ],
   "source": [
    "df.sort_values(by=['date', 'tau', 'm'], inplace=True)\n",
    "df.reset_index(drop=True, inplace=True)\n",
    "df['Xt'] = np.log(df['IV'])\n",
    "df['U_mt'] = df.groupby(['m', 'tau'])['Xt'].diff()\n",
    "df.replace(np.nan, 0, inplace=True)\n",
    "df.head()"
   ]
  },
  {
   "cell_type": "code",
   "execution_count": 5,
   "metadata": {},
   "outputs": [
    {
     "data": {
      "text/plain": [
       "array(['2024-01-02', '2024-01-03', '2024-01-04', '2024-01-05',\n",
       "       '2024-01-08', '2024-01-09', '2024-01-10', '2024-01-11',\n",
       "       '2024-01-12', '2024-01-16', '2024-01-17', '2024-01-18',\n",
       "       '2024-01-19', '2024-01-22', '2024-01-23', '2024-01-24',\n",
       "       '2024-01-25', '2024-01-26', '2024-01-29', '2024-01-30',\n",
       "       '2024-01-31'], dtype=object)"
      ]
     },
     "execution_count": 5,
     "metadata": {},
     "output_type": "execute_result"
    }
   ],
   "source": [
    "dates = df['date'].unique()\n",
    "dates"
   ]
  },
  {
   "cell_type": "code",
   "execution_count": 6,
   "metadata": {},
   "outputs": [
    {
     "name": "stdout",
     "output_type": "stream",
     "text": [
      "(21, 154)\n",
      "(154, 5)\n"
     ]
    },
    {
     "data": {
      "text/html": [
       "<div>\n",
       "<style scoped>\n",
       "    .dataframe tbody tr th:only-of-type {\n",
       "        vertical-align: middle;\n",
       "    }\n",
       "\n",
       "    .dataframe tbody tr th {\n",
       "        vertical-align: top;\n",
       "    }\n",
       "\n",
       "    .dataframe thead th {\n",
       "        text-align: right;\n",
       "    }\n",
       "</style>\n",
       "<table border=\"1\" class=\"dataframe\">\n",
       "  <thead>\n",
       "    <tr style=\"text-align: right;\">\n",
       "      <th></th>\n",
       "      <th>0</th>\n",
       "      <th>1</th>\n",
       "      <th>2</th>\n",
       "      <th>3</th>\n",
       "      <th>4</th>\n",
       "    </tr>\n",
       "  </thead>\n",
       "  <tbody>\n",
       "    <tr>\n",
       "      <th>2024-01-03</th>\n",
       "      <td>-0.028288</td>\n",
       "      <td>-0.067036</td>\n",
       "      <td>0.014254</td>\n",
       "      <td>0.000928</td>\n",
       "      <td>0.009124</td>\n",
       "    </tr>\n",
       "    <tr>\n",
       "      <th>2024-01-04</th>\n",
       "      <td>0.050312</td>\n",
       "      <td>0.091208</td>\n",
       "      <td>-0.048933</td>\n",
       "      <td>-0.004202</td>\n",
       "      <td>-0.051605</td>\n",
       "    </tr>\n",
       "    <tr>\n",
       "      <th>2024-01-05</th>\n",
       "      <td>0.115499</td>\n",
       "      <td>0.185125</td>\n",
       "      <td>-0.058014</td>\n",
       "      <td>-0.005276</td>\n",
       "      <td>-0.087394</td>\n",
       "    </tr>\n",
       "    <tr>\n",
       "      <th>2024-01-08</th>\n",
       "      <td>0.088601</td>\n",
       "      <td>-0.221109</td>\n",
       "      <td>0.500685</td>\n",
       "      <td>0.033823</td>\n",
       "      <td>0.195944</td>\n",
       "    </tr>\n",
       "    <tr>\n",
       "      <th>2024-01-09</th>\n",
       "      <td>0.126621</td>\n",
       "      <td>-0.075945</td>\n",
       "      <td>0.367717</td>\n",
       "      <td>0.032924</td>\n",
       "      <td>0.122525</td>\n",
       "    </tr>\n",
       "  </tbody>\n",
       "</table>\n",
       "</div>"
      ],
      "text/plain": [
       "                   0         1         2         3         4\n",
       "2024-01-03 -0.028288 -0.067036  0.014254  0.000928  0.009124\n",
       "2024-01-04  0.050312  0.091208 -0.048933 -0.004202 -0.051605\n",
       "2024-01-05  0.115499  0.185125 -0.058014 -0.005276 -0.087394\n",
       "2024-01-08  0.088601 -0.221109  0.500685  0.033823  0.195944\n",
       "2024-01-09  0.126621 -0.075945  0.367717  0.032924  0.122525"
      ]
     },
     "execution_count": 6,
     "metadata": {},
     "output_type": "execute_result"
    }
   ],
   "source": [
    "dates = df['date'].unique()\n",
    "starting_date = dates[0]\n",
    "pivot = df.pivot(index='date',columns=['m','tau'],values='U_mt')\n",
    "K = pivot.cov().values\n",
    "print(pivot.shape)\n",
    "eigenvalues, eigenvectors = np.linalg.eigh(K)\n",
    "sorted_indices = np.argsort(eigenvalues)[::-1]\n",
    "sorted_eigenvectors = eigenvectors[:, sorted_indices]\n",
    "k = 5\n",
    "top_eigenvectors = sorted_eigenvectors[:, :k]\n",
    "print(top_eigenvectors.shape)\n",
    "features = pd.DataFrame()\n",
    "for date in dates[1:]:\n",
    "    xt = df[df['date'] == date].sort_values(by=['m', 'tau'])['Xt'].values\n",
    "    x0 = df[df['date'] == starting_date].sort_values(by=['m', 'tau'])['Xt'].values\n",
    "    u = xt - x0\n",
    "    feature = np.dot(u, top_eigenvectors)\n",
    "    features[date] = feature\n",
    "features = features.T\n",
    "features.head()"
   ]
  },
  {
   "cell_type": "code",
   "execution_count": null,
   "metadata": {},
   "outputs": [],
   "source": []
  },
  {
   "cell_type": "code",
   "execution_count": null,
   "metadata": {},
   "outputs": [],
   "source": []
  }
 ],
 "metadata": {
  "kernelspec": {
   "display_name": "torch",
   "language": "python",
   "name": "python3"
  },
  "language_info": {
   "codemirror_mode": {
    "name": "ipython",
    "version": 3
   },
   "file_extension": ".py",
   "mimetype": "text/x-python",
   "name": "python",
   "nbconvert_exporter": "python",
   "pygments_lexer": "ipython3",
   "version": "3.11.9"
  }
 },
 "nbformat": 4,
 "nbformat_minor": 2
}
